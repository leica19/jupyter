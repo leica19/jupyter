{
 "cells": [
  {
   "cell_type": "code",
   "execution_count": 37,
   "metadata": {},
   "outputs": [],
   "source": [
    "# lib\n",
    "import numpy as np\n",
    "import pandas as pd\n",
    "import scipy as sp\n",
    "\n",
    "# for plot\n",
    "from matplotlib import pyplot as plt\n",
    "import seaborn as sns\n",
    "sns.set()\n",
    "\n",
    "import statsmodels.formula.api as smf\n",
    "import statsmodels.api as sm\n",
    "\n",
    "# 多層\n",
    "from sklearn.neural_network import MLPClassifier\n",
    "from sklearn.datasets import load_iris\n",
    "from sklearn.model_selection import train_test_split\n",
    "from sklearn import linear_model\n",
    "from sklearn.preprocessing import StandardScaler\n",
    "\n",
    "%precision 3\n",
    "\n",
    "%matplotlib inline"
   ]
  },
  {
   "cell_type": "code",
   "execution_count": 4,
   "metadata": {},
   "outputs": [],
   "source": [
    "\n",
    "iris = load_iris()\n"
   ]
  },
  {
   "cell_type": "code",
   "execution_count": 5,
   "metadata": {},
   "outputs": [
    {
     "data": {
      "text/plain": [
       "['sepal length (cm)',\n",
       " 'sepal width (cm)',\n",
       " 'petal length (cm)',\n",
       " 'petal width (cm)']"
      ]
     },
     "execution_count": 5,
     "metadata": {},
     "output_type": "execute_result"
    }
   ],
   "source": [
    "\n",
    "iris.feature_names"
   ]
  },
  {
   "cell_type": "code",
   "execution_count": 6,
   "metadata": {},
   "outputs": [
    {
     "data": {
      "text/plain": [
       "array(['setosa', 'versicolor', 'virginica'], dtype='<U10')"
      ]
     },
     "execution_count": 6,
     "metadata": {},
     "output_type": "execute_result"
    }
   ],
   "source": [
    "\n",
    "iris.target_names\n"
   ]
  },
  {
   "cell_type": "code",
   "execution_count": 10,
   "metadata": {},
   "outputs": [
    {
     "name": "stdout",
     "output_type": "stream",
     "text": [
      "(100, 2)\n",
      "(100,)\n"
     ]
    }
   ],
   "source": [
    "\n",
    "X = iris.data[50:150, 0:2]\n",
    "y = iris.target[50:150]\n",
    "\n",
    "print(X.shape)\n",
    "print(y.shape)"
   ]
  },
  {
   "cell_type": "code",
   "execution_count": 16,
   "metadata": {},
   "outputs": [
    {
     "name": "stdout",
     "output_type": "stream",
     "text": [
      "(75, 2)\n",
      "(75,)\n"
     ]
    }
   ],
   "source": [
    "\n",
    "X_train, X_test, y_train, y_test = train_test_split(X, y, random_state=2)\n",
    "\n",
    "print(X_train.shape)\n",
    "print(y_train.shape)"
   ]
  },
  {
   "cell_type": "code",
   "execution_count": 17,
   "metadata": {
    "scrolled": true
   },
   "outputs": [
    {
     "data": {
      "text/plain": [
       "array([1, 1, 2, 2, 2, 2, 1, 1, 1, 1])"
      ]
     },
     "execution_count": 17,
     "metadata": {},
     "output_type": "execute_result"
    }
   ],
   "source": [
    "\n",
    "y_train [0:10]\n"
   ]
  },
  {
   "cell_type": "code",
   "execution_count": 19,
   "metadata": {
    "scrolled": false
   },
   "outputs": [
    {
     "name": "stdout",
     "output_type": "stream",
     "text": [
      "   species  sepal_len  sepal_wid\n",
      "0        0        5.7        2.8\n",
      "1        0        6.6        3.0\n",
      "2        1        6.1        3.0\n",
      "3        1        6.7        3.3\n",
      "4        1        6.8        3.0\n"
     ]
    }
   ],
   "source": [
    "\n",
    "X_train_df = pd.DataFrame(\n",
    "    X_train, columns=[\"sepal_len\", \"sepal_wid\"])\n",
    "\n",
    "y_train_df = pd.DataFrame({\"species\": y_train - 1})\n",
    "\n",
    "iris_train_df = pd.concat([y_train_df, X_train_df], axis=1)\n",
    "\n",
    "print(iris_train_df.head())"
   ]
  },
  {
   "cell_type": "code",
   "execution_count": 20,
   "metadata": {},
   "outputs": [
    {
     "name": "stdout",
     "output_type": "stream",
     "text": [
      "full 76.813\n",
      "len  76.234\n",
      "wid  92.768\n",
      "null 105.318\n"
     ]
    }
   ],
   "source": [
    "\n",
    "# モデル化\n",
    "# すべての変数を入れたモデル\n",
    "logi_mod_full = smf.glm(\n",
    "    \"species ~ sepal_len + sepal_wid\", data = iris_train_df,\n",
    "    family=sm.families.Binomial()).fit()\n",
    "\n",
    "# 長さのみ\n",
    "logi_mod_len = smf.glm(\n",
    "    \"species ~ sepal_len\", data = iris_train_df,\n",
    "    family=sm.families.Binomial()).fit()\n",
    "\n",
    "# 幅のみ\n",
    "logi_mod_wid = smf.glm(\n",
    "    \"species ~ sepal_wid\", data = iris_train_df,\n",
    "    family=sm.families.Binomial()).fit()\n",
    "\n",
    "# Nullモデル\n",
    "logi_mod_null = smf.glm(\n",
    "    \"species ~ 1\", data = iris_train_df,\n",
    "    family=sm.families.Binomial()).fit()\n",
    "\n",
    "# AICの比較\n",
    "print(\"full\", logi_mod_full.aic.round(3))\n",
    "print(\"len \", logi_mod_len.aic.round(3))\n",
    "print(\"wid \", logi_mod_wid.aic.round(3))\n",
    "print(\"null\", logi_mod_null.aic.round(3))"
   ]
  },
  {
   "cell_type": "code",
   "execution_count": 25,
   "metadata": {},
   "outputs": [
    {
     "data": {
      "text/html": [
       "<table class=\"simpletable\">\n",
       "<caption>Generalized Linear Model Regression Results</caption>\n",
       "<tr>\n",
       "  <th>Dep. Variable:</th>       <td>species</td>     <th>  No. Observations:  </th>  <td>    75</td> \n",
       "</tr>\n",
       "<tr>\n",
       "  <th>Model:</th>                 <td>GLM</td>       <th>  Df Residuals:      </th>  <td>    73</td> \n",
       "</tr>\n",
       "<tr>\n",
       "  <th>Model Family:</th>       <td>Binomial</td>     <th>  Df Model:          </th>  <td>     1</td> \n",
       "</tr>\n",
       "<tr>\n",
       "  <th>Link Function:</th>        <td>logit</td>      <th>  Scale:             </th>    <td>1.0</td>  \n",
       "</tr>\n",
       "<tr>\n",
       "  <th>Method:</th>               <td>IRLS</td>       <th>  Log-Likelihood:    </th> <td> -36.117</td>\n",
       "</tr>\n",
       "<tr>\n",
       "  <th>Date:</th>           <td>Sat, 02 Jun 2018</td> <th>  Deviance:          </th> <td>  72.234</td>\n",
       "</tr>\n",
       "<tr>\n",
       "  <th>Time:</th>               <td>10:04:26</td>     <th>  Pearson chi2:      </th>  <td>  63.8</td> \n",
       "</tr>\n",
       "<tr>\n",
       "  <th>No. Iterations:</th>         <td>5</td>        <th>                     </th>     <td> </td>   \n",
       "</tr>\n",
       "</table>\n",
       "<table class=\"simpletable\">\n",
       "<tr>\n",
       "      <td></td>         <th>coef</th>     <th>std err</th>      <th>z</th>      <th>P>|z|</th>  <th>[0.025</th>    <th>0.975]</th>  \n",
       "</tr>\n",
       "<tr>\n",
       "  <th>Intercept</th> <td>  -16.4152</td> <td>    4.000</td> <td>   -4.104</td> <td> 0.000</td> <td>  -24.256</td> <td>   -8.575</td>\n",
       "</tr>\n",
       "<tr>\n",
       "  <th>sepal_len</th> <td>    2.6478</td> <td>    0.639</td> <td>    4.142</td> <td> 0.000</td> <td>    1.395</td> <td>    3.901</td>\n",
       "</tr>\n",
       "</table>"
      ],
      "text/plain": [
       "<class 'statsmodels.iolib.summary.Summary'>\n",
       "\"\"\"\n",
       "                 Generalized Linear Model Regression Results                  \n",
       "==============================================================================\n",
       "Dep. Variable:                species   No. Observations:                   75\n",
       "Model:                            GLM   Df Residuals:                       73\n",
       "Model Family:                Binomial   Df Model:                            1\n",
       "Link Function:                  logit   Scale:                             1.0\n",
       "Method:                          IRLS   Log-Likelihood:                -36.117\n",
       "Date:                Sat, 02 Jun 2018   Deviance:                       72.234\n",
       "Time:                        10:04:26   Pearson chi2:                     63.8\n",
       "No. Iterations:                     5                                         \n",
       "==============================================================================\n",
       "                 coef    std err          z      P>|z|      [0.025      0.975]\n",
       "------------------------------------------------------------------------------\n",
       "Intercept    -16.4152      4.000     -4.104      0.000     -24.256      -8.575\n",
       "sepal_len      2.6478      0.639      4.142      0.000       1.395       3.901\n",
       "==============================================================================\n",
       "\"\"\""
      ]
     },
     "execution_count": 25,
     "metadata": {},
     "output_type": "execute_result"
    }
   ],
   "source": [
    "\n",
    "logi_mod_len.summary()"
   ]
  },
  {
   "cell_type": "code",
   "execution_count": 26,
   "metadata": {},
   "outputs": [
    {
     "data": {
      "text/html": [
       "<table class=\"simpletable\">\n",
       "<tr>\n",
       "      <td></td>         <th>coef</th>     <th>std err</th>      <th>z</th>      <th>P>|z|</th>  <th>[0.025</th>    <th>0.975]</th>  \n",
       "</tr>\n",
       "<tr>\n",
       "  <th>Intercept</th> <td>  -16.4152</td> <td>    4.000</td> <td>   -4.104</td> <td> 0.000</td> <td>  -24.256</td> <td>   -8.575</td>\n",
       "</tr>\n",
       "<tr>\n",
       "  <th>sepal_len</th> <td>    2.6478</td> <td>    0.639</td> <td>    4.142</td> <td> 0.000</td> <td>    1.395</td> <td>    3.901</td>\n",
       "</tr>\n",
       "</table>"
      ],
      "text/plain": [
       "<class 'statsmodels.iolib.table.SimpleTable'>"
      ]
     },
     "execution_count": 26,
     "metadata": {},
     "output_type": "execute_result"
    }
   ],
   "source": [
    "\n",
    "logi_mod_len.summary().tables[1]"
   ]
  },
  {
   "cell_type": "code",
   "execution_count": 30,
   "metadata": {},
   "outputs": [
    {
     "name": "stdout",
     "output_type": "stream",
     "text": [
      "訓練データの的中率　： 0.75\n",
      "テストデータの的中率： 0.68\n"
     ]
    }
   ],
   "source": [
    "# 予測精度\n",
    "\n",
    "X_test_df = pd.DataFrame(\n",
    "    X_test, columns = [\"sepal_len\", \"sepal_wid\"])\n",
    "\n",
    "# 当てはめと予測\n",
    "logi_fit = logi_mod_len.fittedvalues.round(0)\n",
    "logi_pred = logi_mod_len.predict(X_test_df).round(0)\n",
    "\n",
    "# 正答数\n",
    "true_train = sp.sum(logi_fit == (y_train - 1))\n",
    "true_test = sp.sum(logi_pred == (y_test - 1))\n",
    "\n",
    "# 的中率\n",
    "result_train = true_train / len(y_train)\n",
    "result_test = true_test / len(y_test)\n",
    "\n",
    "#結果の出力\n",
    "print(\"訓練データの的中率　：\", result_train.round(2))\n",
    "print(\"テストデータの的中率：\", result_test)\n"
   ]
  },
  {
   "cell_type": "markdown",
   "metadata": {},
   "source": [
    "### NN"
   ]
  },
  {
   "cell_type": "markdown",
   "metadata": {},
   "source": [
    "##### 標準化"
   ]
  },
  {
   "cell_type": "code",
   "execution_count": 33,
   "metadata": {},
   "outputs": [],
   "source": [
    "\n",
    "scaler = StandardScaler()\n",
    "scaler.fit(X_train)\n",
    "\n",
    "X_train_scaled = scaler.transform(X_train)\n",
    "X_test_scaled = scaler.transform(X_test)"
   ]
  },
  {
   "cell_type": "code",
   "execution_count": 35,
   "metadata": {},
   "outputs": [
    {
     "data": {
      "text/plain": [
       "array([1., 1.])"
      ]
     },
     "execution_count": 35,
     "metadata": {},
     "output_type": "execute_result"
    }
   ],
   "source": [
    "\n",
    "sp.std(X_train_scaled, axis=0)"
   ]
  },
  {
   "cell_type": "code",
   "execution_count": 36,
   "metadata": {
    "scrolled": true
   },
   "outputs": [
    {
     "data": {
      "text/plain": [
       "array([0.74 , 0.679])"
      ]
     },
     "execution_count": 36,
     "metadata": {},
     "output_type": "execute_result"
    }
   ],
   "source": [
    "\n",
    "sp.std(X_test_scaled, axis=0)"
   ]
  },
  {
   "cell_type": "code",
   "execution_count": 48,
   "metadata": {},
   "outputs": [
    {
     "name": "stdout",
     "output_type": "stream",
     "text": [
      "0.8933333333333333\n",
      "0.68\n"
     ]
    }
   ],
   "source": [
    "\n",
    "nnet = MLPClassifier(\n",
    "    hidden_layer_sizes=(100,100),\n",
    "    alpha=0.07,\n",
    "    max_iter=10000,\n",
    "    random_state=0)\n",
    "\n",
    "nnet.fit(X_train_scaled, y_train)\n",
    "\n",
    "print(nnet.score(X_train_scaled, y_train))\n",
    "print(nnet.score(X_test_scaled, y_test))"
   ]
  }
 ],
 "metadata": {
  "kernelspec": {
   "display_name": "Python 3",
   "language": "python",
   "name": "python3"
  },
  "language_info": {
   "codemirror_mode": {
    "name": "ipython",
    "version": 3
   },
   "file_extension": ".py",
   "mimetype": "text/x-python",
   "name": "python",
   "nbconvert_exporter": "python",
   "pygments_lexer": "ipython3",
   "version": "3.6.4"
  }
 },
 "nbformat": 4,
 "nbformat_minor": 2
}
