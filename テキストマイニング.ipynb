{
 "cells": [
  {
   "cell_type": "code",
   "execution_count": 2,
   "metadata": {},
   "outputs": [
    {
     "name": "stderr",
     "output_type": "stream",
     "text": [
      "C:\\Users\\blk30\\Anaconda3\\lib\\site-packages\\gensim\\utils.py:1197: UserWarning: detected Windows; aliasing chunkize to chunkize_serial\n",
      "  warnings.warn(\"detected Windows; aliasing chunkize to chunkize_serial\")\n"
     ]
    }
   ],
   "source": [
    "from gensim import corpora"
   ]
  },
  {
   "cell_type": "markdown",
   "metadata": {},
   "source": [
    "### インポート用クラス"
   ]
  },
  {
   "cell_type": "code",
   "execution_count": 4,
   "metadata": {},
   "outputs": [],
   "source": [
    "import re\n",
    "\n",
    "class Aozora:\n",
    "    decoration = re.compile(r\"(［[^［］]*］)|(《[^《》]*》)|[｜\\n]\")\n",
    "    def __init__(self, filename):\n",
    "        self.filename = filename\n",
    "        with open(filename, \"r\", encoding=\"shift-jis\") as afile:\n",
    "            self.whole_str = afile.read()\n",
    "        paragraphs = self.whole_str.splitlines()\n",
    "        c = 0\n",
    "        position = 0\n",
    "        for (i, u) in enumerate(reversed(paragraphs)):\n",
    "            if len(u) != 0:\n",
    "                c = 0\n",
    "            else:\n",
    "                c += 1\n",
    "                if c >= 3:\n",
    "                    position = i\n",
    "                    break\n",
    "        if position != 0:\n",
    "            paragraphs = paragraphs[:-(position+1)]\n",
    "            \n",
    "        newparagraphs = []\n",
    "        addswitch = True\n",
    "        for u in paragraphs:\n",
    "            if u[:2] != '--':\n",
    "                if addswitch:\n",
    "                    newparagraphs.append(u)\n",
    "            else:\n",
    "                addswitch = not addswitch\n",
    "                \n",
    "        \n",
    "        self.cleanedparagraphs = []\n",
    "        for u in newparagraphs:\n",
    "            v = re.sub(self.decoration, '', u)\n",
    "            self.cleanedparagraphs.append(v)\n",
    "            \n",
    "    def read(self):\n",
    "        return self.cleanedparagraphs\n"
   ]
  },
  {
   "cell_type": "code",
   "execution_count": 12,
   "metadata": {},
   "outputs": [
    {
     "name": "stdout",
     "output_type": "stream",
     "text": [
      "[('、', 1148), ('の', 715), ('に', 434), ('。', 401), ('て', 365), ('な', 363), ('た', 356), ('を', 336), ('る', 329), ('は', 326), ('つ', 300), ('が', 293), ('い', 291), ('し', 273), ('と', 265), ('か', 248), ('ら', 231), ('で', 228), ('れ', 226), ('う', 206), ('も', 171), ('そ', 138), ('く', 132), ('あ', 129), ('―', 116), ('や', 116), ('\\n', 114), ('ゐ', 113), ('り', 112), ('さ', 108), ('ま', 99), ('へ', 96), ('五', 95), ('す', 93), ('位', 90), ('一', 84), ('\\u3000', 82), ('こ', 82), ('ふ', 72), ('云', 69), ('「', 69), ('」', 69), ('け', 68), ('事', 65), ('時', 61), ('人', 61), ('仁', 59), ('見', 58), ('利', 54), ('中', 53)]\n"
     ]
    }
   ],
   "source": [
    "\n",
    "from collections import Counter\n",
    "\n",
    "aozora = Aozora(\"imogayu.txt\")\n",
    "\n",
    "string = '\\n'.join(aozora.read())\n",
    "\n",
    "cnt = Counter(string)\n",
    "\n",
    "print(sorted(cnt.items(), key=lambda x: x[1], reverse=True)[:50])"
   ]
  },
  {
   "cell_type": "code",
   "execution_count": 19,
   "metadata": {},
   "outputs": [
    {
     "name": "stdout",
     "output_type": "stream",
     "text": [
      ">Fellow-Citizens of the Senate and of the House of Representatives:\n",
      "\n",
      "Among the vicissitudes incident to life no event could have filled me with greater anxieties than that of which the notification was transmitted by your order, and received on the 14th day of the present month.<\n",
      ">On the one hand, I was summoned by my Country, whose voice I can never hear but with veneration and love, from a retreat which I had chosen with the fondest predilection, and, in my flattering hopes, with an immutable decision, as the asylum of my declining years -- a retreat which was rendered every day more necessary as well as more dear to me by the addition of habit to inclination, and of frequent interruptions in my health to the gradual waste committed on it by time.<\n",
      ">On the other hand, the magnitude and difficulty of the trust to which the voice of my country called me, being sufficient to awaken in the wisest and most experienced of her citizens a distrustful scrutiny into his qualifications, could not but overwhelm with despondence one who (inheriting inferior endowments from nature and unpracticed in the duties of civil administration) ought to be peculiarly conscious of his own deficiencies.<\n",
      ">In this conflict of emotions all I dare aver is that it has been my faithful study to collect my duty from a just appreciation of every circumstance by which it might be affected.<\n",
      ">All I dare hope is that if, in executing this task, I have been too much swayed by a grateful remembrance of former instances, or by an affectionate sensibility to this transcendent proof of the confidence of my fellow citizens, and have thence too little consulted my incapacity as well as disinclination for the weighty and untried cares before me, my error will be palliated by the motives which mislead me, and its consequences be judged by my country with some share of the partiality in which they originated.<\n",
      ">Such being the impressions under which I have, in obedience to the public summons, repaired to the present station, it would be peculiarly improper to omit in this first official act my fervent supplications to that Almighty Being who rules over the universe, who presides in the councils of nations, and whose providential aids can supply every human defect, that His benediction may consecrate to the liberties and happiness of the people of the United States a Government instituted by themselves for these essential purposes, and may enable every instrument employed in its administration to execute with success the functions allotted to his charge.<\n",
      ">In tendering this homage to the Great Author of every public and private good, I assure myself that it expresses your sentiments not less than my own, nor those of my fellow citizens at large less than either.<\n",
      ">No people can be bound to acknowledge and adore the Invisible Hand which conducts the affairs of men more than those of the United States.<\n",
      ">Every step by which they have advanced to the character of an independent nation seems to have been distinguished by some token of providential agency; and in the important revolution just accomplished in the system of their united government the tranquil deliberations and voluntary consent of so many distinct communities from which the event has resulted can not be compared with the means by which most governments have been established without some return of pious gratitude, along with an humble anticipation of the future blessings which the past seem to presage.<\n",
      ">These reflections, arising out of the present crisis, have forced themselves too strongly on my mind to be suppressed.<\n",
      ">You will join with me, I trust, in thinking that there are none under the influence of which the proceedings of a new and free government can more auspiciously commence.<\n",
      ">By the article establishing the executive department it is made the duty of the President \"to recommend to your consideration such measures as he shall judge necessary and expedient.\"<\n",
      ">The circumstances under which I now meet you will acquit me from entering into that subject further than to refer to the great constitutional charter under which you are assembled, and which, in defining your powers, designates the objects to which your attention is to be given.<\n",
      ">It will be more consistent with those circumstances, and far more congenial with the feelings which actuate me, to substitute, in place of a recommendation of particular measures, the tribute that is due to the talents, the rectitude, and the patriotism which adorn the characters selected to devise and adopt them.<\n",
      ">In these honorable qualifications I behold the surest pledges that as on one side no local prejudices or attachments, no separate views nor party animosities, will misdirect the comprehensive and equal eye which ought to watch over this great assemblage of communities and interests, so, on another, that the foundation of our national policy will be laid in the pure and immutable principles of private morality, and the preeminence of free government be exemplified by all the attributes which can win the affections of its citizens and command the respect of the world.<\n",
      ">I dwell on this prospect with every satisfaction which an ardent love for my country can inspire, since there is no truth more thoroughly established than that there exists in the economy and course of nature an indissoluble union between virtue and happiness; between duty and advantage; between the genuine maxims of an honest and magnanimous policy and the solid rewards of public prosperity and felicity; since we ought to be no less persuaded that the propitious smiles of Heaven can never be expected on a nation that disregards the eternal rules of order and right which Heaven itself has ordained; and since the preservation of the sacred fire of liberty and the destiny of the republican model of government are justly considered, perhaps, as deeply, as finally, staked on the experiment entrusted to the hands of the American people.<\n",
      ">Besides the ordinary objects submitted to your care, it will remain with your judgment to decide how far an exercise of the occasional power delegated by the fifth article of the Constitution is rendered expedient at the present juncture by the nature of objections which have been urged against the system, or by the degree of inquietude which has given birth to them.<\n",
      ">Instead of undertaking particular recommendations on this subject, in which I could be guided by no lights derived from official opportunities, I shall again give way to my entire confidence in your discernment and pursuit of the public good; for I assure myself that whilst you carefully avoid every alteration which might endanger the benefits of an united and effective government, or which ought to await the future lessons of experience, a reverence for the characteristic rights of freemen and a regard for the public harmony will sufficiently influence your deliberations on the question how far the former can be impregnably fortified or the latter be safely and advantageously promoted.<\n",
      ">To the foregoing observations I have one to add, which will be most properly addressed to the House of Representatives.<\n",
      ">It concerns myself, and will therefore be as brief as possible.<\n",
      ">When I was first honored with a call into the service of my country, then on the eve of an arduous struggle for its liberties, the light in which I contemplated my duty required that I should renounce every pecuniary compensation.<\n",
      ">From this resolution I have in no instance departed; and being still under the impressions which produced it, I must decline as inapplicable to myself any share in the personal emoluments which may be indispensably included in a permanent provision for the executive department, and must accordingly pray that the pecuniary estimates for the station in which I am placed may during my continuance in it be limited to such actual expenditures as the public good may be thought to require.<\n",
      ">Having thus imparted to you my sentiments as they have been awakened by the occasion which brings us together, I shall take my present leave; but not without resorting once more to the benign Parent of the Human Race in humble supplication that, since He has been pleased to favor the American people with opportunities for deliberating in perfect tranquillity, and dispositions for deciding with unparalleled unanimity on a form of government for the security of their union and the advancement of their happiness, so His divine blessing may be equally conspicuous in the enlarged views, the temperate consultations, and the wise measures on which the success of this Government must depend.<\n"
     ]
    }
   ],
   "source": [
    "\n",
    "import nltk\n",
    "from nltk.corpus import inaugural\n",
    "\n",
    "text = inaugural.raw(\"1789-Washington.txt\")\n",
    "sents = nltk.tokenize.sent_tokenize(text)\n",
    "\n",
    "for u in sents:\n",
    "    print('>'+u+'<')"
   ]
  },
  {
   "cell_type": "code",
   "execution_count": 21,
   "metadata": {},
   "outputs": [
    {
     "name": "stdout",
     "output_type": "stream",
     "text": [
      "[(843, 1), (695, 1), (692, 1), (654, 1), (572, 1), (570, 1), (515, 1), (487, 1), (477, 1), (436, 1), (369, 1), (315, 1), (279, 1), (278, 1), (230, 1), (209, 1), (183, 1), (179, 1), (169, 1), (138, 1), (119, 1), (118, 1), (63, 1)]\n"
     ]
    }
   ],
   "source": [
    "\n",
    "import matplotlib.pyplot as plt\n",
    "import numpy as np\n",
    "\n",
    "text = inaugural.raw(\"1789-Washington.txt\")\n",
    "\n",
    "sents = nltk.tokenize.sent_tokenize(text)\n",
    "\n",
    "cnt = Counter(len(x) for x in sents)\n",
    "\n",
    "print(sorted(cnt.items(), key=lambda x: [x[1], x[0]], reverse=True))\n"
   ]
  },
  {
   "cell_type": "code",
   "execution_count": 23,
   "metadata": {},
   "outputs": [
    {
     "data": {
      "image/png": "[encoded data removed]",
      "text/plain": [
       "<matplotlib.figure.Figure at 0x26feef6ce10>"
      ]
     },
     "metadata": {},
     "output_type": "display_data"
    }
   ],
   "source": [
    "\n",
    "nstring = np.array([len(x) for x in sents])\n",
    "\n",
    "plt.hist(nstring)\n",
    "plt.title('was speech')\n",
    "plt.xlabel('num of sentence')\n",
    "plt.ylabel('freq')\n",
    "plt.show()"
   ]
  }
 ],
 "metadata": {
  "kernelspec": {
   "display_name": "Python 3",
   "language": "python",
   "name": "python3"
  },
  "language_info": {
   "codemirror_mode": {
    "name": "ipython",
    "version": 3
   },
   "file_extension": ".py",
   "mimetype": "text/x-python",
   "name": "python",
   "nbconvert_exporter": "python",
   "pygments_lexer": "ipython3",
   "version": "3.6.4"
  }
 },
 "nbformat": 4,
 "nbformat_minor": 2
}
