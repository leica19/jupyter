{
 "cells": [
  {
   "cell_type": "code",
   "execution_count": 17,
   "metadata": {},
   "outputs": [],
   "source": [
    "# lib\n",
    "import numpy as np\n",
    "import pandas as pd\n",
    "import scipy as sp\n",
    "from scipy import stats\n",
    "\n",
    "# for plot\n",
    "from matplotlib import pyplot as plt\n",
    "import seaborn as sns\n",
    "sns.set()\n",
    "\n",
    "import statsmodels.formula.api as smf\n",
    "import statsmodels.api as sm\n",
    "\n",
    "from sklearn import linear_model\n",
    "\n",
    "%precision 3\n",
    "\n",
    "%matplotlib inline"
   ]
  },
  {
   "cell_type": "code",
   "execution_count": 3,
   "metadata": {},
   "outputs": [
    {
     "data": {
      "text/html": [
       "<div>\n",
       "<style scoped>\n",
       "    .dataframe tbody tr th:only-of-type {\n",
       "        vertical-align: middle;\n",
       "    }\n",
       "\n",
       "    .dataframe tbody tr th {\n",
       "        vertical-align: top;\n",
       "    }\n",
       "\n",
       "    .dataframe thead th {\n",
       "        text-align: right;\n",
       "    }\n",
       "</style>\n",
       "<table border=\"1\" class=\"dataframe\">\n",
       "  <thead>\n",
       "    <tr style=\"text-align: right;\">\n",
       "      <th></th>\n",
       "      <th>X_1</th>\n",
       "      <th>X_2</th>\n",
       "      <th>X_3</th>\n",
       "      <th>X_4</th>\n",
       "      <th>X_5</th>\n",
       "      <th>X_6</th>\n",
       "      <th>X_7</th>\n",
       "      <th>X_8</th>\n",
       "      <th>X_9</th>\n",
       "      <th>X_10</th>\n",
       "      <th>...</th>\n",
       "      <th>X_91</th>\n",
       "      <th>X_92</th>\n",
       "      <th>X_93</th>\n",
       "      <th>X_94</th>\n",
       "      <th>X_95</th>\n",
       "      <th>X_96</th>\n",
       "      <th>X_97</th>\n",
       "      <th>X_98</th>\n",
       "      <th>X_99</th>\n",
       "      <th>X_100</th>\n",
       "    </tr>\n",
       "  </thead>\n",
       "  <tbody>\n",
       "    <tr>\n",
       "      <th>0</th>\n",
       "      <td>1.0000</td>\n",
       "      <td>0.5000</td>\n",
       "      <td>0.3333</td>\n",
       "      <td>0.2500</td>\n",
       "      <td>0.2000</td>\n",
       "      <td>0.1667</td>\n",
       "      <td>0.1429</td>\n",
       "      <td>0.1250</td>\n",
       "      <td>0.1111</td>\n",
       "      <td>0.1000</td>\n",
       "      <td>...</td>\n",
       "      <td>0.0110</td>\n",
       "      <td>0.0109</td>\n",
       "      <td>0.0108</td>\n",
       "      <td>0.0106</td>\n",
       "      <td>0.0105</td>\n",
       "      <td>0.0104</td>\n",
       "      <td>0.0103</td>\n",
       "      <td>0.0102</td>\n",
       "      <td>0.0101</td>\n",
       "      <td>0.0100</td>\n",
       "    </tr>\n",
       "    <tr>\n",
       "      <th>1</th>\n",
       "      <td>0.5000</td>\n",
       "      <td>0.3333</td>\n",
       "      <td>0.2500</td>\n",
       "      <td>0.2000</td>\n",
       "      <td>0.1667</td>\n",
       "      <td>0.1429</td>\n",
       "      <td>0.1250</td>\n",
       "      <td>0.1111</td>\n",
       "      <td>0.1000</td>\n",
       "      <td>0.0909</td>\n",
       "      <td>...</td>\n",
       "      <td>0.0109</td>\n",
       "      <td>0.0108</td>\n",
       "      <td>0.0106</td>\n",
       "      <td>0.0105</td>\n",
       "      <td>0.0104</td>\n",
       "      <td>0.0103</td>\n",
       "      <td>0.0102</td>\n",
       "      <td>0.0101</td>\n",
       "      <td>0.0100</td>\n",
       "      <td>0.0099</td>\n",
       "    </tr>\n",
       "    <tr>\n",
       "      <th>2</th>\n",
       "      <td>0.3333</td>\n",
       "      <td>0.2500</td>\n",
       "      <td>0.2000</td>\n",
       "      <td>0.1667</td>\n",
       "      <td>0.1429</td>\n",
       "      <td>0.1250</td>\n",
       "      <td>0.1111</td>\n",
       "      <td>0.1000</td>\n",
       "      <td>0.0909</td>\n",
       "      <td>0.0833</td>\n",
       "      <td>...</td>\n",
       "      <td>0.0108</td>\n",
       "      <td>0.0106</td>\n",
       "      <td>0.0105</td>\n",
       "      <td>0.0104</td>\n",
       "      <td>0.0103</td>\n",
       "      <td>0.0102</td>\n",
       "      <td>0.0101</td>\n",
       "      <td>0.0100</td>\n",
       "      <td>0.0099</td>\n",
       "      <td>0.0098</td>\n",
       "    </tr>\n",
       "    <tr>\n",
       "      <th>3</th>\n",
       "      <td>0.2500</td>\n",
       "      <td>0.2000</td>\n",
       "      <td>0.1667</td>\n",
       "      <td>0.1429</td>\n",
       "      <td>0.1250</td>\n",
       "      <td>0.1111</td>\n",
       "      <td>0.1000</td>\n",
       "      <td>0.0909</td>\n",
       "      <td>0.0833</td>\n",
       "      <td>0.0769</td>\n",
       "      <td>...</td>\n",
       "      <td>0.0106</td>\n",
       "      <td>0.0105</td>\n",
       "      <td>0.0104</td>\n",
       "      <td>0.0103</td>\n",
       "      <td>0.0102</td>\n",
       "      <td>0.0101</td>\n",
       "      <td>0.0100</td>\n",
       "      <td>0.0099</td>\n",
       "      <td>0.0098</td>\n",
       "      <td>0.0097</td>\n",
       "    </tr>\n",
       "    <tr>\n",
       "      <th>4</th>\n",
       "      <td>0.2000</td>\n",
       "      <td>0.1667</td>\n",
       "      <td>0.1429</td>\n",
       "      <td>0.1250</td>\n",
       "      <td>0.1111</td>\n",
       "      <td>0.1000</td>\n",
       "      <td>0.0909</td>\n",
       "      <td>0.0833</td>\n",
       "      <td>0.0769</td>\n",
       "      <td>0.0714</td>\n",
       "      <td>...</td>\n",
       "      <td>0.0105</td>\n",
       "      <td>0.0104</td>\n",
       "      <td>0.0103</td>\n",
       "      <td>0.0102</td>\n",
       "      <td>0.0101</td>\n",
       "      <td>0.0100</td>\n",
       "      <td>0.0099</td>\n",
       "      <td>0.0098</td>\n",
       "      <td>0.0097</td>\n",
       "      <td>0.0096</td>\n",
       "    </tr>\n",
       "  </tbody>\n",
       "</table>\n",
       "<p>5 rows × 100 columns</p>\n",
       "</div>"
      ],
      "text/plain": [
       "      X_1     X_2     X_3     X_4     X_5     X_6     X_7     X_8     X_9  \\\n",
       "0  1.0000  0.5000  0.3333  0.2500  0.2000  0.1667  0.1429  0.1250  0.1111   \n",
       "1  0.5000  0.3333  0.2500  0.2000  0.1667  0.1429  0.1250  0.1111  0.1000   \n",
       "2  0.3333  0.2500  0.2000  0.1667  0.1429  0.1250  0.1111  0.1000  0.0909   \n",
       "3  0.2500  0.2000  0.1667  0.1429  0.1250  0.1111  0.1000  0.0909  0.0833   \n",
       "4  0.2000  0.1667  0.1429  0.1250  0.1111  0.1000  0.0909  0.0833  0.0769   \n",
       "\n",
       "     X_10   ...      X_91    X_92    X_93    X_94    X_95    X_96    X_97  \\\n",
       "0  0.1000   ...    0.0110  0.0109  0.0108  0.0106  0.0105  0.0104  0.0103   \n",
       "1  0.0909   ...    0.0109  0.0108  0.0106  0.0105  0.0104  0.0103  0.0102   \n",
       "2  0.0833   ...    0.0108  0.0106  0.0105  0.0104  0.0103  0.0102  0.0101   \n",
       "3  0.0769   ...    0.0106  0.0105  0.0104  0.0103  0.0102  0.0101  0.0100   \n",
       "4  0.0714   ...    0.0105  0.0104  0.0103  0.0102  0.0101  0.0100  0.0099   \n",
       "\n",
       "     X_98    X_99   X_100  \n",
       "0  0.0102  0.0101  0.0100  \n",
       "1  0.0101  0.0100  0.0099  \n",
       "2  0.0100  0.0099  0.0098  \n",
       "3  0.0099  0.0098  0.0097  \n",
       "4  0.0098  0.0097  0.0096  \n",
       "\n",
       "[5 rows x 100 columns]"
      ]
     },
     "execution_count": 3,
     "metadata": {},
     "output_type": "execute_result"
    }
   ],
   "source": [
    "\n",
    "X = pd.read_csv(\"7-3-1-large-data.csv\")\n",
    "X.head()"
   ]
  },
  {
   "cell_type": "code",
   "execution_count": 4,
   "metadata": {},
   "outputs": [
    {
     "data": {
      "text/plain": [
       "0.037"
      ]
     },
     "execution_count": 4,
     "metadata": {},
     "output_type": "execute_result"
    }
   ],
   "source": [
    "\n",
    "sp.mean(X.X_1)"
   ]
  },
  {
   "cell_type": "code",
   "execution_count": 5,
   "metadata": {},
   "outputs": [
    {
     "data": {
      "text/plain": [
       "X_1    0.037272\n",
       "X_2    0.030649\n",
       "X_3    0.027360\n",
       "X_4    0.025181\n",
       "X_5    0.023558\n",
       "dtype: float64"
      ]
     },
     "execution_count": 5,
     "metadata": {},
     "output_type": "execute_result"
    }
   ],
   "source": [
    "\n",
    "sp.mean(X, axis=0).head()"
   ]
  },
  {
   "cell_type": "code",
   "execution_count": 6,
   "metadata": {},
   "outputs": [],
   "source": [
    "\n",
    "X -= sp.mean(X, axis=0)\n",
    "X /= sp.std(X, ddof=1, axis=0)"
   ]
  },
  {
   "cell_type": "code",
   "execution_count": 8,
   "metadata": {
    "scrolled": false
   },
   "outputs": [
    {
     "data": {
      "text/plain": [
       "X_1    1.0\n",
       "X_2    1.0\n",
       "X_3    1.0\n",
       "X_4    1.0\n",
       "X_5    1.0\n",
       "dtype: float64"
      ]
     },
     "execution_count": 8,
     "metadata": {},
     "output_type": "execute_result"
    }
   ],
   "source": [
    "\n",
    "sp.std(X, ddof=1, axis=0).head()"
   ]
  },
  {
   "cell_type": "code",
   "execution_count": 10,
   "metadata": {},
   "outputs": [],
   "source": [
    "\n",
    "noise = sp.stats.norm.rvs(loc=0, scale=1, size=X.shape[0])\n",
    "y = X.X_1 * 5 + noise"
   ]
  },
  {
   "cell_type": "code",
   "execution_count": 12,
   "metadata": {
    "scrolled": true
   },
   "outputs": [
    {
     "data": {
      "text/plain": [
       "<seaborn.axisgrid.JointGrid at 0x21f562612b0>"
      ]
     },
     "execution_count": 12,
     "metadata": {},
     "output_type": "execute_result"
    },
    {
     "data": {
      "image/png": "[encoded data removed]",
      "text/plain": [
       "<matplotlib.figure.Figure at 0x21f562614a8>"
      ]
     },
     "metadata": {},
     "output_type": "display_data"
    }
   ],
   "source": [
    "\n",
    "large_data = pd.concat([pd.DataFrame({\"y\":y}), X], axis=1)\n",
    "\n",
    "sns.jointplot(y=\"y\", x=\"X_1\", data=large_data)"
   ]
  },
  {
   "cell_type": "code",
   "execution_count": 16,
   "metadata": {
    "scrolled": true
   },
   "outputs": [
    {
     "data": {
      "text/plain": [
       "X_1    -5.393035\n",
       "X_2    47.508841\n",
       "X_3   -13.622408\n",
       "X_4   -50.925555\n",
       "X_5   -45.434049\n",
       "dtype: float64"
      ]
     },
     "execution_count": 16,
     "metadata": {},
     "output_type": "execute_result"
    }
   ],
   "source": [
    "\n",
    "lm_statsmodels = sm.OLS(endog=y, exog=X).fit()\n",
    "lm_statsmodels.params.head()"
   ]
  },
  {
   "cell_type": "code",
   "execution_count": 19,
   "metadata": {
    "scrolled": true
   },
   "outputs": [
    {
     "data": {
      "text/plain": [
       "array([-5.393e+00,  4.751e+01, -1.362e+01, -5.093e+01, -4.543e+01,\n",
       "        3.824e+01, -1.279e+01,  4.876e+01,  6.155e+00,  4.727e+01,\n",
       "        2.530e+00,  1.072e+00, -1.175e+01,  3.842e+01, -5.462e+01,\n",
       "       -3.156e+01,  4.801e+00,  2.854e+01, -3.796e+01, -4.181e+01,\n",
       "        1.690e+00, -3.402e+01,  6.713e+01,  1.602e+01,  1.756e+01,\n",
       "       -2.069e+01, -2.066e+01, -4.995e+01, -9.151e+00, -2.260e+01,\n",
       "        4.715e+01,  2.529e+01,  2.542e+01,  2.379e+01,  2.414e+01,\n",
       "       -5.918e+00, -2.234e+01,  1.210e+01, -4.383e+01,  2.483e+01,\n",
       "       -3.527e+00,  1.476e+01,  1.117e+01, -3.636e+00, -4.465e-01,\n",
       "       -8.261e+00,  4.908e-01, -1.780e+01, -9.094e+00, -1.477e+00,\n",
       "        6.712e+00,  2.911e+01, -2.247e+01,  8.076e+00, -1.596e+01,\n",
       "       -1.576e+01,  3.221e+00, -3.655e+00,  3.494e+00,  1.546e+01,\n",
       "        8.916e+00,  1.079e+01, -1.382e+01,  3.124e+00, -2.985e+00,\n",
       "       -1.355e+00, -3.460e+00, -8.794e+00,  1.462e+00,  1.337e+00,\n",
       "        2.128e+01, -3.947e+00, -8.340e+00,  5.410e+00,  6.024e+00,\n",
       "        1.439e+01,  4.609e+00, -4.120e+00, -2.949e+01, -5.612e+00,\n",
       "        3.011e+00, -9.960e+00, -5.482e-01, -2.720e+00,  4.935e+00,\n",
       "        2.533e+00,  4.265e-01, -4.982e+00, -1.094e-02,  7.951e+00,\n",
       "       -1.187e+00,  3.766e+00,  4.967e+00,  5.938e-01,  3.521e+00,\n",
       "       -7.931e+00, -6.399e+00,  4.639e+00,  1.692e+00,  1.390e+00])"
      ]
     },
     "execution_count": 19,
     "metadata": {},
     "output_type": "execute_result"
    }
   ],
   "source": [
    "\n",
    "lm_sklearn = linear_model.LinearRegression()\n",
    "\n",
    "lm_sklearn.fit(X, y)\n",
    "\n",
    "lm_sklearn.coef_"
   ]
  },
  {
   "cell_type": "code",
   "execution_count": 20,
   "metadata": {},
   "outputs": [],
   "source": [
    "\n",
    "n_alphas = 50\n",
    "ridge_alphas = np.logspace(-2, 0.7, n_alphas)"
   ]
  },
  {
   "cell_type": "code",
   "execution_count": 21,
   "metadata": {
    "scrolled": false
   },
   "outputs": [
    {
     "data": {
      "text/plain": [
       "array([-2.   , -1.945, -1.89 , -1.835, -1.78 , -1.724, -1.669, -1.614,\n",
       "       -1.559, -1.504, -1.449, -1.394, -1.339, -1.284, -1.229, -1.173,\n",
       "       -1.118, -1.063, -1.008, -0.953, -0.898, -0.843, -0.788, -0.733,\n",
       "       -0.678, -0.622, -0.567, -0.512, -0.457, -0.402, -0.347, -0.292,\n",
       "       -0.237, -0.182, -0.127, -0.071, -0.016,  0.039,  0.094,  0.149,\n",
       "        0.204,  0.259,  0.314,  0.369,  0.424,  0.48 ,  0.535,  0.59 ,\n",
       "        0.645,  0.7  ])"
      ]
     },
     "execution_count": 21,
     "metadata": {},
     "output_type": "execute_result"
    }
   ],
   "source": [
    "\n",
    "sp.log10(ridge_alphas)"
   ]
  },
  {
   "cell_type": "code",
   "execution_count": 22,
   "metadata": {},
   "outputs": [],
   "source": [
    "\n",
    "ridge_coefs = []\n",
    "\n",
    "for a in ridge_alphas:\n",
    "    ridge = linear_model.Ridge(alpha=a, fit_intercept=False)\n",
    "    ridge.fit(X, y)\n",
    "    ridge_coefs.append(ridge.coef_)\n",
    "    "
   ]
  },
  {
   "cell_type": "code",
   "execution_count": 23,
   "metadata": {},
   "outputs": [
    {
     "data": {
      "text/plain": [
       "(50, 100)"
      ]
     },
     "execution_count": 23,
     "metadata": {},
     "output_type": "execute_result"
    }
   ],
   "source": [
    "\n",
    "ridge_coefs = np.array(ridge_coefs)\n",
    "ridge_coefs.shape\n"
   ]
  },
  {
   "cell_type": "code",
   "execution_count": 29,
   "metadata": {
    "scrolled": true
   },
   "outputs": [
    {
     "data": {
      "text/plain": [
       "Text(0,0.5,'Coefficients')"
      ]
     },
     "execution_count": 29,
     "metadata": {},
     "output_type": "execute_result"
    },
    {
     "data": {
      "image/png": "[encoded data removed]",
      "text/plain": [
       "<matplotlib.figure.Figure at 0x21f5e0a87b8>"
      ]
     },
     "metadata": {},
     "output_type": "display_data"
    }
   ],
   "source": [
    "\n",
    "log_alphas = -sp.log10(ridge_alphas)\n",
    "\n",
    "plt.plot(log_alphas, ridge_coefs)\n",
    "\n",
    "plt.text(max(log_alphas) + 0.1, np.array(ridge_coefs)[0,0], \"X_1\")\n",
    "\n",
    "plt.xlim([min(log_alphas) - 0.1, max(log_alphas) + 0.3])\n",
    "\n",
    "plt.title(\"Ridge\")\n",
    "plt.xlabel(\"- log10(alpha)\")\n",
    "plt.ylabel(\"Coefficients\")"
   ]
  },
  {
   "cell_type": "markdown",
   "metadata": {},
   "source": [
    "\n",
    "左に行くほど、αが大きくて正則化の強度が強い\n"
   ]
  }
 ],
 "metadata": {
  "kernelspec": {
   "display_name": "Python 3",
   "language": "python",
   "name": "python3"
  },
  "language_info": {
   "codemirror_mode": {
    "name": "ipython",
    "version": 3
   },
   "file_extension": ".py",
   "mimetype": "text/x-python",
   "name": "python",
   "nbconvert_exporter": "python",
   "pygments_lexer": "ipython3",
   "version": "3.6.4"
  }
 },
 "nbformat": 4,
 "nbformat_minor": 2
}
