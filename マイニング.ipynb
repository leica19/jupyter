{
 "cells": [
  {
   "cell_type": "code",
   "execution_count": 5,
   "metadata": {},
   "outputs": [
    {
     "name": "stdout",
     "output_type": "stream",
     "text": [
      "Counter({' ': 3, 'i': 2, 's': 2, 't': 1, 'h': 1, 'a': 1, 'p': 1, 'e': 1, 'n': 1, '.': 1})\n"
     ]
    }
   ],
   "source": [
    "\n",
    "from collections import Counter\n",
    "\n",
    "string = \"this is a pen.\"\n",
    "\n",
    "cnt = Counter(string)\n",
    "\n",
    "print(cnt)\n"
   ]
  },
  {
   "cell_type": "code",
   "execution_count": 7,
   "metadata": {},
   "outputs": [
    {
     "name": "stdout",
     "output_type": "stream",
     "text": [
      "Counter({'志': 1, '垣': 1, 'は': 1, '早': 1, '起': 1, 'き': 1, 'し': 1, 'て': 1, '、': 1, '新': 1, '聞': 1, '紙': 1, 'を': 1, '読': 1, 'ん': 1, 'だ': 1, '。': 1})\n"
     ]
    }
   ],
   "source": [
    "\n",
    "string = \"志垣は早起きして、新聞紙を読んだ。\"\n",
    "\n",
    "cnt = Counter(string)\n",
    "\n",
    "print(cnt)\n"
   ]
  },
  {
   "cell_type": "code",
   "execution_count": 11,
   "metadata": {},
   "outputs": [],
   "source": [
    "\n",
    "import re\n",
    "import os\n",
    "\n",
    "class Aozora:\n",
    "    def __init__(self, filename):\n",
    "        self.filename = filename\n",
    "        with open(filename, \"r\", encoding=\"shift-jis\") as afile:\n",
    "            self.whole_str = afile.read()\n",
    "        paragraphs = self.whole_str.splitlines()\n",
    "        c = 0\n",
    "        position = 0\n",
    "        for (i, u) in enumerate(reversed(paragraphs)):\n",
    "            if len(u) != 0:\n",
    "                c = 0\n",
    "            else:\n",
    "                c += 1\n",
    "                if c >= 3:\n",
    "                    position = i\n",
    "                    break\n",
    "                    \n"
   ]
  }
 ],
 "metadata": {
  "kernelspec": {
   "display_name": "Python 3",
   "language": "python",
   "name": "python3"
  },
  "language_info": {
   "codemirror_mode": {
    "name": "ipython",
    "version": 3
   },
   "file_extension": ".py",
   "mimetype": "text/x-python",
   "name": "python",
   "nbconvert_exporter": "python",
   "pygments_lexer": "ipython3",
   "version": "3.6.4"
  }
 },
 "nbformat": 4,
 "nbformat_minor": 2
}
